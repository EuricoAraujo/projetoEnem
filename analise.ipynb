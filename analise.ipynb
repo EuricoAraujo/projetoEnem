{
 "cells": [
  {
   "cell_type": "code",
   "execution_count": null,
   "metadata": {},
   "outputs": [],
   "source": [
    "import pandas as pd\n",
    "from pyspark.sql import SparkSession\n",
    "from pyspark.sql.functions import regexp_replace"
   ]
  },
  {
   "cell_type": "markdown",
   "metadata": {},
   "source": [
    "- Nota do enem de mulheres nordestinas gravidas entre 17 e 25 anos\n",
    "- CO_UF_RESIDENCIA\n",
    "- NU_IDADE\n",
    "- TP_SEXO\n",
    "- TP_ESTADO_CIVIL\n",
    "- TP_ESCOLA\n",
    "- IN_GESTANTE\n",
    "- presença nas provas\n",
    "- TP_PRESENCA_CN\n",
    "- TP_PRESENCA_CH\n",
    "- TP_PRESENCA_LC\n",
    "- TP_PRESENCA_MT\n",
    "- nota das provas\n",
    "- NU_NOTA_CN\n",
    "- NU_NOTA_CH\n",
    "- NU_NOTA_LC\n",
    "- NU_NOTA_MT\n",
    "- NU_NOTA_REDACAO\n",
    "- renda mensal da familia\n",
    "- Q006\n",
    "\n",
    "- usecols = \"[CO_UF_RESIDENCIA],[NU_IDADE],[TP_SEXO],[TP_ESTADO_CIVIL],[TP_ESCOLA],[IN_GESTANTE],[TP_PRESENCA_CN],[TP_PRESENCA_CH],[TP_PRESENCA_LC],[TP_PRESENCA_MT],[NU_NOTA_CN],[NU_NOTA_CH],[NU_NOTA_LC],[NU_NOTA_MT],[NU_NOTA_REDACAO],[Q006]\"\n"
   ]
  },
  {
   "cell_type": "code",
   "execution_count": null,
   "metadata": {},
   "outputs": [],
   "source": [
    "spark = SparkSession.builder.getOrCreate()"
   ]
  },
  {
   "cell_type": "code",
   "execution_count": null,
   "metadata": {},
   "outputs": [],
   "source": [
    "dados = spark.read.options(header='True', inferSchema='True', delimiter = ';').csv('./enem2019/DADOS/MICRODADOS_ENEM_2019.csv')"
   ]
  },
  {
   "cell_type": "code",
   "execution_count": null,
   "metadata": {},
   "outputs": [],
   "source": [
    "#dados.select('CO_UF_RESIDENCIA').show()\n",
    "#dados = 0"
   ]
  },
  {
   "cell_type": "code",
   "execution_count": null,
   "metadata": {},
   "outputs": [],
   "source": [
    "dados.head(1)"
   ]
  },
  {
   "cell_type": "code",
   "execution_count": null,
   "metadata": {},
   "outputs": [],
   "source": [
    "dados_select = dados.select(\"CO_UF_RESIDENCIA\",\"NU_IDADE\",\"TP_SEXO\",\"TP_ESTADO_CIVIL\",\"TP_ESCOLA\",\"IN_GESTANTE\",\"TP_PRESENCA_CN\",\"TP_PRESENCA_CH\",\"TP_PRESENCA_LC\",\"TP_PRESENCA_MT\",\"NU_NOTA_CN\",\"NU_NOTA_CH\",\"NU_NOTA_LC\",\"NU_NOTA_MT\",\"NU_NOTA_REDACAO\",\"Q006\")"
   ]
  },
  {
   "cell_type": "code",
   "execution_count": null,
   "metadata": {},
   "outputs": [],
   "source": [
    "dados_select = dados_select.withColumnRenamed(\"NU_IDADE\",\"IDADE\").withColumnRenamed(\"TP_SEXO\",\"SEXO\").withColumnRenamed(\"TP_ESTADO_CIVIL\",\"ESTADO_CIVIL\").withColumnRenamed(\"TP_ESCOLA\",\"ESCOLA\").withColumnRenamed(\"IN_GESTANTE\",\"GESTANTE\").withColumnRenamed(\"TP_PRESENCA_CN\",\"PRESENCA_CN\").withColumnRenamed(\"TP_PRESENCA_CH\",\"PRESENCA_CH\").withColumnRenamed(\"TP_PRESENCA_MT\",\"PRESENCA_MT\").withColumnRenamed(\"NU_NOTA_CN\",\"NOTA_CN\").withColumnRenamed(\"NU_NOTA_CH\",\"NOTA_CH\").withColumnRenamed(\"NU_NOTA_LC\",\"NOTA_LC\").withColumnRenamed(\"NU_NOTA_MT\",\"NOTA_MT\").withColumnRenamed(\"NU_NOTA_REDACAO\",\"NOTA_REDACAO\").withColumnRenamed(\"Q006\",\"RENDA_FAMILIA\")"
   ]
  },
  {
   "cell_type": "code",
   "execution_count": null,
   "metadata": {},
   "outputs": [],
   "source": [
    "dados_select.select('CO_UF_RESIDENCIA').show()"
   ]
  },
  {
   "cell_type": "code",
   "execution_count": null,
   "metadata": {},
   "outputs": [],
   "source": [
    "#tratamento\n",
    "dados_select.withColumn(\"CO_UF_RESIDENCIA\", regexp_replace(\"CO_UF_RESIDENCIA\", 35,'SP'))"
   ]
  },
  {
   "cell_type": "code",
   "execution_count": null,
   "metadata": {},
   "outputs": [],
   "source": [
    "dados_select.filter(dados_select[\"CO_UF_RESIDENCIA\"] == 'PI').show(5)"
   ]
  },
  {
   "cell_type": "code",
   "execution_count": null,
   "metadata": {},
   "outputs": [],
   "source": [
    "dados_select.write.options(header='True', delimiter=';').csv(\"./enem2019/DADOS/dados_selecionados.csv\")\n",
    "#dados_select.write.format(\"csv\").mode('overwrite').save(\"./enem2019/DADOS/dados_selecionados.csv\")"
   ]
  },
  {
   "cell_type": "code",
   "execution_count": null,
   "metadata": {},
   "outputs": [],
   "source": [
    "dados_filtro = dados_select.toPandas()"
   ]
  }
 ],
 "metadata": {
  "interpreter": {
   "hash": "ad1ce3fb65ea9e48a3dc38c6ba8a0633043f3effdaf2758c45fa4c0b93b76c99"
  },
  "kernelspec": {
   "display_name": "Python 3",
   "language": "python",
   "name": "python3"
  },
  "language_info": {
   "codemirror_mode": {
    "name": "ipython",
    "version": 3
   },
   "file_extension": ".py",
   "mimetype": "text/x-python",
   "name": "python",
   "nbconvert_exporter": "python",
   "pygments_lexer": "ipython3",
   "version": "3.8.5"
  }
 },
 "nbformat": 4,
 "nbformat_minor": 4
}
